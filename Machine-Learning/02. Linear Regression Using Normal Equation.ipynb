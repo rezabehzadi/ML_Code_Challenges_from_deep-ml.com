{
 "cells": [
  {
   "cell_type": "markdown",
   "metadata": {},
   "source": [
    "Linear Regression Using Normal Equation - Difficulty (easy) - Category (machine learning)\n",
    "\n",
    "Write a Python function that performs linear regression using the normal equation. \n",
    "\n",
    "The function should take a matrix X (features) and a vector y (target) as input, and return the coefficients of the linear regression model. \n",
    "\n",
    "Round your answer to four decimal places, -0.0 is a valid result for rounding a very small number."
   ]
  },
  {
   "cell_type": "code",
   "execution_count": 65,
   "metadata": {},
   "outputs": [],
   "source": [
    "import numpy as np\n",
    "\n",
    "def linear_regression_normal_equation(X: list[list[float]], y: list[float]) -> list[float]:\n",
    "  \"\"\"\n",
    "  Performs linear regression using the normal equation.\n",
    "\n",
    "  Args:\n",
    "      X: A NumPy array representing the feature matrix.\n",
    "      y: A NumPy array representing the target vector.\n",
    "\n",
    "  Returns:\n",
    "      A NumPy array containing the coefficients of the linear regression model \n",
    "      rounded to four decimal places.\n",
    "  \"\"\"\n",
    "  X = np.array(X)\n",
    "  y = np.array(y)\n",
    "\n",
    "  # Check if dimensions are compatible\n",
    "  if X.shape[0] != len(y):\n",
    "    raise ValueError(\"Incompatible dimensions for features and target\")\n",
    "\n",
    "  # Calculate the pseudo-inverse (handles potential singularity)\n",
    "  X_pinv = np.linalg.pinv(X)  \n",
    "\n",
    "  # Calculate coefficients using the normal equation\n",
    "  # X * theta = y --> theta = X_pinv*y\n",
    "  theta = X_pinv.dot(y)\n",
    "\n",
    "  # Round coefficients to four decimal places\n",
    "  theta = np.round(theta, decimals=4) \n",
    "\n",
    "  return theta.tolist()"
   ]
  },
  {
   "cell_type": "code",
   "execution_count": 66,
   "metadata": {},
   "outputs": [
    {
     "data": {
      "text/plain": [
       "[-0.0, 1.0]"
      ]
     },
     "execution_count": 66,
     "metadata": {},
     "output_type": "execute_result"
    }
   ],
   "source": [
    "X = np.array([[1, 1], \n",
    "              [1, 2], \n",
    "              [1, 3]])\n",
    "\n",
    "y = np.array([1, 2, 3])\n",
    "\n",
    "linear_regression_normal_equation(X,y)"
   ]
  },
  {
   "cell_type": "code",
   "execution_count": 67,
   "metadata": {},
   "outputs": [
    {
     "data": {
      "text/plain": [
       "[4.0, -1.0, -0.0]"
      ]
     },
     "execution_count": 67,
     "metadata": {},
     "output_type": "execute_result"
    }
   ],
   "source": [
    "X = np.array([[1, 3, 4], [1, 2, 5], [1, 3, 2]])\n",
    "y = np.array([1, 2, 1])\n",
    "\n",
    "linear_regression_normal_equation(X,y)"
   ]
  }
 ],
 "metadata": {
  "kernelspec": {
   "display_name": "Python 3",
   "language": "python",
   "name": "python3"
  },
  "language_info": {
   "codemirror_mode": {
    "name": "ipython",
    "version": 3
   },
   "file_extension": ".py",
   "mimetype": "text/x-python",
   "name": "python",
   "nbconvert_exporter": "python",
   "pygments_lexer": "ipython3",
   "version": "3.11.4"
  }
 },
 "nbformat": 4,
 "nbformat_minor": 2
}
