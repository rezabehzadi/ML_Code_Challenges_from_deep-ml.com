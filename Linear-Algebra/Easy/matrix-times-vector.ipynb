{
 "cells": [
  {
   "cell_type": "markdown",
   "metadata": {},
   "source": [
    "Matrix times Vector - Difficulty (easy) - Category (linear algebra)\n",
    "\n",
    "Write a Python function that takes the dot product of a matrix and a vector. \n",
    "\n",
    "return -1 if the matrix could not be dotted with the vector"
   ]
  },
  {
   "cell_type": "code",
   "execution_count": 41,
   "metadata": {},
   "outputs": [],
   "source": [
    "def matrix_dot_vector(a:list[list[int|float]],b:list[int|float])-> list[int|float]:\n",
    "   \n",
    "  \"\"\"\n",
    "  This function returns the dot product of a matrix and a vector.\n",
    "\n",
    "  Args:\n",
    "      a: A list of lists representing the matrix.\n",
    "      b: A list representing the vector.\n",
    "\n",
    "  Returns:\n",
    "      The dot product of the matrix and vector as a list of numbers, or -1 if the dot product is not possible.\n",
    "  \"\"\"\n",
    "\n",
    "  # Check if dimensions are compatible\n",
    "  if len(a[0]) != len(b):\n",
    "    return -1\n",
    "\n",
    "  # Initialize an empty list to store the dot product\n",
    "  c = []\n",
    "\n",
    "  # Loop through each row of the matrix\n",
    "  for row in a:\n",
    "    # Initialize a variable to store the dot product of the current row and the vector\n",
    "    row_dot_product = 0\n",
    "    \n",
    "    # Loop through each element in the row and corresponding element in the vector\n",
    "    for i in range(len(row)):\n",
    "      row_dot_product += row[i] * b[i]  # Multiply corresponding elements and add to the row_dot_product\n",
    "\n",
    "    # Append the row_dot_product to the result list\n",
    "    c.append(row_dot_product)\n",
    "\n",
    "  return c"
   ]
  },
  {
   "cell_type": "code",
   "execution_count": 50,
   "metadata": {},
   "outputs": [
    {
     "name": "stdout",
     "output_type": "stream",
     "text": [
      "[14, 26]\n"
     ]
    }
   ],
   "source": [
    "a = [[1,2,3],\n",
    "     [3,4,5]]\n",
    "\n",
    "b = [1,2,3]\n",
    "\n",
    "c=matrix_dot_vector(a,b)\n",
    "print(c)"
   ]
  },
  {
   "cell_type": "code",
   "execution_count": 49,
   "metadata": {},
   "outputs": [
    {
     "name": "stdout",
     "output_type": "stream",
     "text": [
      "-1\n"
     ]
    }
   ],
   "source": [
    "a = [[1,2,3],\n",
    "     [3,4,5]]\n",
    "\n",
    "b = [1,2]\n",
    "\n",
    "c=matrix_dot_vector(a,b)\n",
    "print(c)"
   ]
  }
 ],
 "metadata": {
  "kernelspec": {
   "display_name": "Python 3",
   "language": "python",
   "name": "python3"
  },
  "language_info": {
   "codemirror_mode": {
    "name": "ipython",
    "version": 3
   },
   "file_extension": ".py",
   "mimetype": "text/x-python",
   "name": "python",
   "nbconvert_exporter": "python",
   "pygments_lexer": "ipython3",
   "version": "3.11.4"
  }
 },
 "nbformat": 4,
 "nbformat_minor": 2
}
