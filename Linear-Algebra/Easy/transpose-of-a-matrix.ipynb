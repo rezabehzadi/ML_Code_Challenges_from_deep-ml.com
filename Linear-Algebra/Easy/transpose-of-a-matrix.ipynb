{
 "cells": [
  {
   "cell_type": "markdown",
   "metadata": {},
   "source": [
    "# Transpose of a Matrix (easy)\n",
    "Write a Python function that computes the transpose of a given matrix.\n",
    "\n",
    "* Example:\n",
    "\n",
    "        * input: a = [[1,2,3],[4,5,6]]\n",
    "        * output: [[1,4],[2,5],[3,6]]\n",
    "        * reasoning: The transpose of a matrix is obtained by flipping rows and columns."
   ]
  }
 ],
 "metadata": {
  "language_info": {
   "name": "python"
  }
 },
 "nbformat": 4,
 "nbformat_minor": 2
}
